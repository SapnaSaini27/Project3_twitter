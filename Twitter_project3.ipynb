{
 "cells": [
  {
   "cell_type": "markdown",
   "id": "05f9bc88-27d0-41ba-b533-49594dbaafbf",
   "metadata": {},
   "source": [
    "# Importing Libraries\n"
   ]
  },
  {
   "cell_type": "code",
   "execution_count": 65,
   "id": "6407761b-fca0-44f1-81f1-4e42a64fa73c",
   "metadata": {},
   "outputs": [],
   "source": [
    "import pandas as pd\n",
    "import matplotlib.pyplot as plt\n",
    "import seaborn as sns"
   ]
  },
  {
   "cell_type": "markdown",
   "id": "d6a509cc-e12f-4d7c-9179-214df663007e",
   "metadata": {},
   "source": [
    "# Import Dataset"
   ]
  },
  {
   "cell_type": "code",
   "execution_count": 66,
   "id": "a3d80021-125c-49df-99cf-9e49bfc9866d",
   "metadata": {},
   "outputs": [],
   "source": [
    "df = pd.read_csv(\"training.csv\", encoding = 'ISO-8859-1')"
   ]
  },
  {
   "cell_type": "code",
   "execution_count": 3,
   "id": "7961c825-07b7-4bdb-a880-a1595916f75d",
   "metadata": {},
   "outputs": [
    {
     "data": {
      "text/plain": [
       "(1599999, 6)"
      ]
     },
     "execution_count": 3,
     "metadata": {},
     "output_type": "execute_result"
    }
   ],
   "source": [
    "df.shape"
   ]
  },
  {
   "cell_type": "markdown",
   "id": "f8bf7662-ce8f-4f78-80f0-1c7d7ba5dd5c",
   "metadata": {},
   "source": [
    "# Giving name to columns"
   ]
  },
  {
   "cell_type": "code",
   "execution_count": 67,
   "id": "8bf662e1-d9f4-44e8-8181-7e42d0e9e6cf",
   "metadata": {},
   "outputs": [],
   "source": [
    "df.columns = ['target','id','date','flag','user','text']"
   ]
  },
  {
   "cell_type": "markdown",
   "id": "64a9464c-6017-48ef-b7cb-67916bb3de17",
   "metadata": {},
   "source": [
    "# Dropping Unused Columns"
   ]
  },
  {
   "cell_type": "code",
   "execution_count": 68,
   "id": "39f13b50-3370-417c-bbad-96db056a7c6d",
   "metadata": {},
   "outputs": [],
   "source": [
    "df.drop(['id','flag','user'], axis = 1, inplace = True)"
   ]
  },
  {
   "cell_type": "markdown",
   "id": "531fd92f-e6c1-427e-9505-5449aecc5b44",
   "metadata": {},
   "source": [
    "# Data Information"
   ]
  },
  {
   "cell_type": "code",
   "execution_count": 6,
   "id": "b3ea155a-6426-4e97-bf40-78ca2a333894",
   "metadata": {},
   "outputs": [
    {
     "data": {
      "text/plain": [
       "(1599999, 3)"
      ]
     },
     "execution_count": 6,
     "metadata": {},
     "output_type": "execute_result"
    }
   ],
   "source": [
    "df.shape"
   ]
  },
  {
   "cell_type": "code",
   "execution_count": 7,
   "id": "f6591f1e-b0e1-4857-afe4-6c25e77b498a",
   "metadata": {},
   "outputs": [
    {
     "data": {
      "text/html": [
       "<div>\n",
       "<style scoped>\n",
       "    .dataframe tbody tr th:only-of-type {\n",
       "        vertical-align: middle;\n",
       "    }\n",
       "\n",
       "    .dataframe tbody tr th {\n",
       "        vertical-align: top;\n",
       "    }\n",
       "\n",
       "    .dataframe thead th {\n",
       "        text-align: right;\n",
       "    }\n",
       "</style>\n",
       "<table border=\"1\" class=\"dataframe\">\n",
       "  <thead>\n",
       "    <tr style=\"text-align: right;\">\n",
       "      <th></th>\n",
       "      <th>target</th>\n",
       "      <th>date</th>\n",
       "      <th>text</th>\n",
       "    </tr>\n",
       "  </thead>\n",
       "  <tbody>\n",
       "    <tr>\n",
       "      <th>0</th>\n",
       "      <td>0</td>\n",
       "      <td>Mon Apr 06 22:19:49 PDT 2009</td>\n",
       "      <td>is upset that he can't update his Facebook by ...</td>\n",
       "    </tr>\n",
       "    <tr>\n",
       "      <th>1</th>\n",
       "      <td>0</td>\n",
       "      <td>Mon Apr 06 22:19:53 PDT 2009</td>\n",
       "      <td>@Kenichan I dived many times for the ball. Man...</td>\n",
       "    </tr>\n",
       "    <tr>\n",
       "      <th>2</th>\n",
       "      <td>0</td>\n",
       "      <td>Mon Apr 06 22:19:57 PDT 2009</td>\n",
       "      <td>my whole body feels itchy and like its on fire</td>\n",
       "    </tr>\n",
       "    <tr>\n",
       "      <th>3</th>\n",
       "      <td>0</td>\n",
       "      <td>Mon Apr 06 22:19:57 PDT 2009</td>\n",
       "      <td>@nationwideclass no, it's not behaving at all....</td>\n",
       "    </tr>\n",
       "    <tr>\n",
       "      <th>4</th>\n",
       "      <td>0</td>\n",
       "      <td>Mon Apr 06 22:20:00 PDT 2009</td>\n",
       "      <td>@Kwesidei not the whole crew</td>\n",
       "    </tr>\n",
       "  </tbody>\n",
       "</table>\n",
       "</div>"
      ],
      "text/plain": [
       "   target                          date  \\\n",
       "0       0  Mon Apr 06 22:19:49 PDT 2009   \n",
       "1       0  Mon Apr 06 22:19:53 PDT 2009   \n",
       "2       0  Mon Apr 06 22:19:57 PDT 2009   \n",
       "3       0  Mon Apr 06 22:19:57 PDT 2009   \n",
       "4       0  Mon Apr 06 22:20:00 PDT 2009   \n",
       "\n",
       "                                                text  \n",
       "0  is upset that he can't update his Facebook by ...  \n",
       "1  @Kenichan I dived many times for the ball. Man...  \n",
       "2    my whole body feels itchy and like its on fire   \n",
       "3  @nationwideclass no, it's not behaving at all....  \n",
       "4                      @Kwesidei not the whole crew   "
      ]
     },
     "execution_count": 7,
     "metadata": {},
     "output_type": "execute_result"
    }
   ],
   "source": [
    "df.head()"
   ]
  },
  {
   "cell_type": "code",
   "execution_count": 31,
   "id": "42521b84-45b9-457a-940d-289ca1e9ba87",
   "metadata": {},
   "outputs": [
    {
     "data": {
      "text/html": [
       "<div>\n",
       "<style scoped>\n",
       "    .dataframe tbody tr th:only-of-type {\n",
       "        vertical-align: middle;\n",
       "    }\n",
       "\n",
       "    .dataframe tbody tr th {\n",
       "        vertical-align: top;\n",
       "    }\n",
       "\n",
       "    .dataframe thead th {\n",
       "        text-align: right;\n",
       "    }\n",
       "</style>\n",
       "<table border=\"1\" class=\"dataframe\">\n",
       "  <thead>\n",
       "    <tr style=\"text-align: right;\">\n",
       "      <th></th>\n",
       "      <th>target</th>\n",
       "      <th>date</th>\n",
       "      <th>text</th>\n",
       "    </tr>\n",
       "  </thead>\n",
       "  <tbody>\n",
       "    <tr>\n",
       "      <th>1599994</th>\n",
       "      <td>4</td>\n",
       "      <td>Tue Jun 16 08:40:49 PDT 2009</td>\n",
       "      <td>Just woke up. Having no school is the best fee...</td>\n",
       "    </tr>\n",
       "    <tr>\n",
       "      <th>1599995</th>\n",
       "      <td>4</td>\n",
       "      <td>Tue Jun 16 08:40:49 PDT 2009</td>\n",
       "      <td>TheWDB.com - Very cool to hear old Walt interv...</td>\n",
       "    </tr>\n",
       "    <tr>\n",
       "      <th>1599996</th>\n",
       "      <td>4</td>\n",
       "      <td>Tue Jun 16 08:40:49 PDT 2009</td>\n",
       "      <td>Are you ready for your MoJo Makeover? Ask me f...</td>\n",
       "    </tr>\n",
       "    <tr>\n",
       "      <th>1599997</th>\n",
       "      <td>4</td>\n",
       "      <td>Tue Jun 16 08:40:49 PDT 2009</td>\n",
       "      <td>Happy 38th Birthday to my boo of alll time!!! ...</td>\n",
       "    </tr>\n",
       "    <tr>\n",
       "      <th>1599998</th>\n",
       "      <td>4</td>\n",
       "      <td>Tue Jun 16 08:40:50 PDT 2009</td>\n",
       "      <td>happy #charitytuesday @theNSPCC @SparksCharity...</td>\n",
       "    </tr>\n",
       "  </tbody>\n",
       "</table>\n",
       "</div>"
      ],
      "text/plain": [
       "         target                          date  \\\n",
       "1599994       4  Tue Jun 16 08:40:49 PDT 2009   \n",
       "1599995       4  Tue Jun 16 08:40:49 PDT 2009   \n",
       "1599996       4  Tue Jun 16 08:40:49 PDT 2009   \n",
       "1599997       4  Tue Jun 16 08:40:49 PDT 2009   \n",
       "1599998       4  Tue Jun 16 08:40:50 PDT 2009   \n",
       "\n",
       "                                                      text  \n",
       "1599994  Just woke up. Having no school is the best fee...  \n",
       "1599995  TheWDB.com - Very cool to hear old Walt interv...  \n",
       "1599996  Are you ready for your MoJo Makeover? Ask me f...  \n",
       "1599997  Happy 38th Birthday to my boo of alll time!!! ...  \n",
       "1599998  happy #charitytuesday @theNSPCC @SparksCharity...  "
      ]
     },
     "execution_count": 31,
     "metadata": {},
     "output_type": "execute_result"
    }
   ],
   "source": [
    "df.tail()"
   ]
  },
  {
   "cell_type": "code",
   "execution_count": 7,
   "id": "721aae45-71d6-4952-8580-07ad6ff6b9ab",
   "metadata": {},
   "outputs": [
    {
     "name": "stdout",
     "output_type": "stream",
     "text": [
      "<class 'pandas.core.frame.DataFrame'>\n",
      "RangeIndex: 1599999 entries, 0 to 1599998\n",
      "Data columns (total 3 columns):\n",
      " #   Column  Non-Null Count    Dtype \n",
      "---  ------  --------------    ----- \n",
      " 0   target  1599999 non-null  int64 \n",
      " 1   date    1599999 non-null  object\n",
      " 2   text    1599999 non-null  object\n",
      "dtypes: int64(1), object(2)\n",
      "memory usage: 36.6+ MB\n"
     ]
    }
   ],
   "source": [
    "df.info()"
   ]
  },
  {
   "cell_type": "markdown",
   "id": "a7656fc5-67ee-4125-a18f-bb018312be82",
   "metadata": {},
   "source": [
    "# Dropping null values"
   ]
  },
  {
   "cell_type": "code",
   "execution_count": 8,
   "id": "d86f53cf-07a2-49c9-83a8-5138764eea06",
   "metadata": {},
   "outputs": [
    {
     "data": {
      "text/plain": [
       "target    0\n",
       "date      0\n",
       "text      0\n",
       "dtype: int64"
      ]
     },
     "execution_count": 8,
     "metadata": {},
     "output_type": "execute_result"
    }
   ],
   "source": [
    "df.isnull().sum()"
   ]
  },
  {
   "cell_type": "markdown",
   "id": "452f553a-b292-417f-80bf-b8d9d6bb98af",
   "metadata": {},
   "source": [
    "There is not any null value in the dataset."
   ]
  },
  {
   "cell_type": "markdown",
   "id": "4acf3450-5d40-492d-b391-3bdda0409bfb",
   "metadata": {},
   "source": [
    "# Descriptive Analysis"
   ]
  },
  {
   "cell_type": "code",
   "execution_count": 10,
   "id": "e71cc724-0825-4edd-a4d1-0ca40b0ae645",
   "metadata": {},
   "outputs": [
    {
     "data": {
      "text/html": [
       "<div>\n",
       "<style scoped>\n",
       "    .dataframe tbody tr th:only-of-type {\n",
       "        vertical-align: middle;\n",
       "    }\n",
       "\n",
       "    .dataframe tbody tr th {\n",
       "        vertical-align: top;\n",
       "    }\n",
       "\n",
       "    .dataframe thead th {\n",
       "        text-align: right;\n",
       "    }\n",
       "</style>\n",
       "<table border=\"1\" class=\"dataframe\">\n",
       "  <thead>\n",
       "    <tr style=\"text-align: right;\">\n",
       "      <th></th>\n",
       "      <th>target</th>\n",
       "    </tr>\n",
       "  </thead>\n",
       "  <tbody>\n",
       "    <tr>\n",
       "      <th>count</th>\n",
       "      <td>1.599999e+06</td>\n",
       "    </tr>\n",
       "    <tr>\n",
       "      <th>mean</th>\n",
       "      <td>2.000001e+00</td>\n",
       "    </tr>\n",
       "    <tr>\n",
       "      <th>std</th>\n",
       "      <td>2.000001e+00</td>\n",
       "    </tr>\n",
       "    <tr>\n",
       "      <th>min</th>\n",
       "      <td>0.000000e+00</td>\n",
       "    </tr>\n",
       "    <tr>\n",
       "      <th>25%</th>\n",
       "      <td>0.000000e+00</td>\n",
       "    </tr>\n",
       "    <tr>\n",
       "      <th>50%</th>\n",
       "      <td>4.000000e+00</td>\n",
       "    </tr>\n",
       "    <tr>\n",
       "      <th>75%</th>\n",
       "      <td>4.000000e+00</td>\n",
       "    </tr>\n",
       "    <tr>\n",
       "      <th>max</th>\n",
       "      <td>4.000000e+00</td>\n",
       "    </tr>\n",
       "  </tbody>\n",
       "</table>\n",
       "</div>"
      ],
      "text/plain": [
       "             target\n",
       "count  1.599999e+06\n",
       "mean   2.000001e+00\n",
       "std    2.000001e+00\n",
       "min    0.000000e+00\n",
       "25%    0.000000e+00\n",
       "50%    4.000000e+00\n",
       "75%    4.000000e+00\n",
       "max    4.000000e+00"
      ]
     },
     "execution_count": 10,
     "metadata": {},
     "output_type": "execute_result"
    }
   ],
   "source": [
    "df.describe()"
   ]
  },
  {
   "cell_type": "code",
   "execution_count": 11,
   "id": "39f20f2a-7ce4-4d28-9d9e-7dbc644c8d56",
   "metadata": {},
   "outputs": [
    {
     "data": {
      "text/html": [
       "<div>\n",
       "<style scoped>\n",
       "    .dataframe tbody tr th:only-of-type {\n",
       "        vertical-align: middle;\n",
       "    }\n",
       "\n",
       "    .dataframe tbody tr th {\n",
       "        vertical-align: top;\n",
       "    }\n",
       "\n",
       "    .dataframe thead th {\n",
       "        text-align: right;\n",
       "    }\n",
       "</style>\n",
       "<table border=\"1\" class=\"dataframe\">\n",
       "  <thead>\n",
       "    <tr style=\"text-align: right;\">\n",
       "      <th></th>\n",
       "      <th>date</th>\n",
       "      <th>text</th>\n",
       "    </tr>\n",
       "  </thead>\n",
       "  <tbody>\n",
       "    <tr>\n",
       "      <th>count</th>\n",
       "      <td>1599999</td>\n",
       "      <td>1599999</td>\n",
       "    </tr>\n",
       "    <tr>\n",
       "      <th>unique</th>\n",
       "      <td>774362</td>\n",
       "      <td>1581465</td>\n",
       "    </tr>\n",
       "    <tr>\n",
       "      <th>top</th>\n",
       "      <td>Mon Jun 15 12:53:14 PDT 2009</td>\n",
       "      <td>isPlayer Has Died! Sorry</td>\n",
       "    </tr>\n",
       "    <tr>\n",
       "      <th>freq</th>\n",
       "      <td>20</td>\n",
       "      <td>210</td>\n",
       "    </tr>\n",
       "  </tbody>\n",
       "</table>\n",
       "</div>"
      ],
      "text/plain": [
       "                                date                       text\n",
       "count                        1599999                    1599999\n",
       "unique                        774362                    1581465\n",
       "top     Mon Jun 15 12:53:14 PDT 2009  isPlayer Has Died! Sorry \n",
       "freq                              20                        210"
      ]
     },
     "execution_count": 11,
     "metadata": {},
     "output_type": "execute_result"
    }
   ],
   "source": [
    "df.describe(include = 'object')"
   ]
  },
  {
   "cell_type": "markdown",
   "id": "6529afff-09ea-4e3f-bb2f-ad4239330a79",
   "metadata": {},
   "source": [
    "# Drop Duplicate Values"
   ]
  },
  {
   "cell_type": "code",
   "execution_count": 69,
   "id": "203f96c8-2bef-45f9-9402-c8d007d8d26c",
   "metadata": {},
   "outputs": [
    {
     "data": {
      "text/plain": [
       "397"
      ]
     },
     "execution_count": 69,
     "metadata": {},
     "output_type": "execute_result"
    }
   ],
   "source": [
    "df.duplicated().sum()"
   ]
  },
  {
   "cell_type": "code",
   "execution_count": 70,
   "id": "d6ea827c-3911-46fa-ae6b-2c1b0a12b400",
   "metadata": {},
   "outputs": [],
   "source": [
    "df = df.drop_duplicates()"
   ]
  },
  {
   "cell_type": "code",
   "execution_count": 71,
   "id": "0ebb1112-ca65-4865-a623-409e19ae4cec",
   "metadata": {},
   "outputs": [
    {
     "data": {
      "text/plain": [
       "0"
      ]
     },
     "execution_count": 71,
     "metadata": {},
     "output_type": "execute_result"
    }
   ],
   "source": [
    "df.duplicated().sum()"
   ]
  },
  {
   "cell_type": "markdown",
   "id": "1c1ce771-044f-4351-b663-d2c66959518f",
   "metadata": {},
   "source": [
    "# EDA"
   ]
  },
  {
   "cell_type": "code",
   "execution_count": 72,
   "id": "95fac5bb-f20f-41b9-a237-5801fec096dd",
   "metadata": {},
   "outputs": [
    {
     "data": {
      "image/png": "[encoded data removed]",
      "text/plain": [
       "<Figure size 640x480 with 1 Axes>"
      ]
     },
     "metadata": {},
     "output_type": "display_data"
    }
   ],
   "source": [
    "ax = sns.countplot(data = df, x = 'target')\n",
    "plt.title('Sentiment Distribution')\n",
    "for i in ax.containers:\n",
    "    ax.bar_label(i)\n",
    "plt.show()\n"
   ]
  },
  {
   "cell_type": "code",
   "execution_count": 73,
   "id": "ebc2fd16-f908-4fd9-9441-16b5bc2a8591",
   "metadata": {},
   "outputs": [
    {
     "data": {
      "image/png": "[encoded data removed]",
      "text/plain": [
       "<Figure size 640x480 with 1 Axes>"
      ]
     },
     "metadata": {},
     "output_type": "display_data"
    }
   ],
   "source": [
    "# Calculate and plot text lengths\n",
    "df['text_length'] = df['text'].apply(len)\n",
    "sns.histplot(df['text_length'], bins=40)\n",
    "plt.title('Text Length Distribution')\n",
    "plt.show()\n"
   ]
  },
  {
   "cell_type": "markdown",
   "id": "21c3ca3f-a02d-4eb6-a119-b9833ac01b53",
   "metadata": {},
   "source": [
    "Most of the texts are written in between 50-60 text-length. A Few text (<20,000) has text-length of 150 or above."
   ]
  },
  {
   "cell_type": "code",
   "execution_count": 74,
   "id": "7f662c27-a73b-44d2-9802-d60082466ea8",
   "metadata": {},
   "outputs": [
    {
     "name": "stderr",
     "output_type": "stream",
     "text": [
      "E:\\Python 3.11\\Lib\\site-packages\\dateutil\\parser\\_parser.py:1207: UnknownTimezoneWarning: tzname PDT identified but not understood.  Pass `tzinfos` argument in order to correctly return a timezone-aware datetime.  In a future version, this will raise an exception.\n",
      "  warnings.warn(\"tzname {tzname} identified but not understood.  \"\n"
     ]
    },
    {
     "data": {
      "image/png": "[encoded data removed]",
      "text/plain": [
       "<Figure size 640x480 with 1 Axes>"
      ]
     },
     "metadata": {},
     "output_type": "display_data"
    }
   ],
   "source": [
    "# Convert 'date' column to datetime\n",
    "df['date'] = pd.to_datetime(df['date'])\n",
    "\n",
    "\n",
    "# Extract date features\n",
    "df['year'] = df['date'].dt.year\n",
    "df['month'] = df['date'].dt.month\n",
    "df['day'] = df['date'].dt.day\n",
    "\n",
    "# Plot temporal analysis\n",
    "sns.countplot(x='year', hue='month', data=df)\n",
    "plt.title('Temporal Analysis')\n",
    "plt.show()\n"
   ]
  },
  {
   "cell_type": "markdown",
   "id": "2814f51d-da6a-43a4-b6eb-7879f2146d54",
   "metadata": {},
   "source": [
    "Maximum data in the dataset belongs to 'June' month and the minimum data is from 'April' month."
   ]
  },
  {
   "cell_type": "markdown",
   "id": "33a647a0-fb39-47d1-aee8-4912461df88a",
   "metadata": {},
   "source": [
    "# Text Preprocessing"
   ]
  },
  {
   "cell_type": "code",
   "execution_count": 75,
   "id": "454d1751-fbc1-45c1-96ec-1e41c3c930f1",
   "metadata": {},
   "outputs": [],
   "source": [
    "df.drop(['target','date','text_length','year','month','day'],axis=1,inplace=True)"
   ]
  },
  {
   "cell_type": "markdown",
   "id": "a2452883-ff5b-4134-aacb-bf257ddebffc",
   "metadata": {},
   "source": [
    "# Removal of URLs"
   ]
  },
  {
   "cell_type": "code",
   "execution_count": 76,
   "id": "eca647ba-4f6b-4eb2-b58f-94b34f4491c4",
   "metadata": {},
   "outputs": [],
   "source": [
    "import re"
   ]
  },
  {
   "cell_type": "code",
   "execution_count": 29,
   "id": "705926ba-b987-4027-a1df-ce6ce0e55ed4",
   "metadata": {},
   "outputs": [],
   "source": [
    "def remove_url(text):\n",
    "    return re.sub(r'http?://\\S+|www\\.\\S+','',text)"
   ]
  },
  {
   "cell_type": "code",
   "execution_count": 32,
   "id": "f1efbc6b-a491-45b6-bcc9-38500328ffef",
   "metadata": {},
   "outputs": [
    {
     "data": {
      "text/html": [
       "<div>\n",
       "<style scoped>\n",
       "    .dataframe tbody tr th:only-of-type {\n",
       "        vertical-align: middle;\n",
       "    }\n",
       "\n",
       "    .dataframe tbody tr th {\n",
       "        vertical-align: top;\n",
       "    }\n",
       "\n",
       "    .dataframe thead th {\n",
       "        text-align: right;\n",
       "    }\n",
       "</style>\n",
       "<table border=\"1\" class=\"dataframe\">\n",
       "  <thead>\n",
       "    <tr style=\"text-align: right;\">\n",
       "      <th></th>\n",
       "      <th>text</th>\n",
       "      <th>clean_text</th>\n",
       "    </tr>\n",
       "  </thead>\n",
       "  <tbody>\n",
       "    <tr>\n",
       "      <th>673474</th>\n",
       "      <td>Ughh Hungry cuz Monet Lil Cornell Didnt Share ...</td>\n",
       "      <td>Ughh Hungry cuz Monet Lil Cornell Didnt Share ...</td>\n",
       "    </tr>\n",
       "    <tr>\n",
       "      <th>432136</th>\n",
       "      <td>yes, i am tht bored</td>\n",
       "      <td>yes, i am tht bored</td>\n",
       "    </tr>\n",
       "    <tr>\n",
       "      <th>1044884</th>\n",
       "      <td>Happy Sunny Friday to all you tweets</td>\n",
       "      <td>Happy Sunny Friday to all you tweets</td>\n",
       "    </tr>\n",
       "    <tr>\n",
       "      <th>1189421</th>\n",
       "      <td>Enjoying Summer</td>\n",
       "      <td>Enjoying Summer</td>\n",
       "    </tr>\n",
       "    <tr>\n",
       "      <th>155793</th>\n",
       "      <td>Watching soccer although isn't the finale I wa...</td>\n",
       "      <td>Watching soccer although isn't the finale I wa...</td>\n",
       "    </tr>\n",
       "  </tbody>\n",
       "</table>\n",
       "</div>"
      ],
      "text/plain": [
       "                                                      text  \\\n",
       "673474   Ughh Hungry cuz Monet Lil Cornell Didnt Share ...   \n",
       "432136                                yes, i am tht bored    \n",
       "1044884              Happy Sunny Friday to all you tweets    \n",
       "1189421                                   Enjoying Summer    \n",
       "155793   Watching soccer although isn't the finale I wa...   \n",
       "\n",
       "                                                clean_text  \n",
       "673474   Ughh Hungry cuz Monet Lil Cornell Didnt Share ...  \n",
       "432136                                yes, i am tht bored   \n",
       "1044884              Happy Sunny Friday to all you tweets   \n",
       "1189421                                   Enjoying Summer   \n",
       "155793   Watching soccer although isn't the finale I wa...  "
      ]
     },
     "execution_count": 32,
     "metadata": {},
     "output_type": "execute_result"
    }
   ],
   "source": [
    "df['clean_text'] = df['text'].apply(lambda x: remove_url(x))\n",
    "df.sample(frac=1).head()"
   ]
  },
  {
   "cell_type": "markdown",
   "id": "13a8c09d-8ab1-4e9f-ad28-b66b3f0db64b",
   "metadata": {},
   "source": [
    "# Convert text to lowercase"
   ]
  },
  {
   "cell_type": "code",
   "execution_count": 33,
   "id": "1bdcc315-6beb-437a-bdd6-5450d00fe2e7",
   "metadata": {},
   "outputs": [
    {
     "data": {
      "text/html": [
       "<div>\n",
       "<style scoped>\n",
       "    .dataframe tbody tr th:only-of-type {\n",
       "        vertical-align: middle;\n",
       "    }\n",
       "\n",
       "    .dataframe tbody tr th {\n",
       "        vertical-align: top;\n",
       "    }\n",
       "\n",
       "    .dataframe thead th {\n",
       "        text-align: right;\n",
       "    }\n",
       "</style>\n",
       "<table border=\"1\" class=\"dataframe\">\n",
       "  <thead>\n",
       "    <tr style=\"text-align: right;\">\n",
       "      <th></th>\n",
       "      <th>text</th>\n",
       "      <th>clean_text</th>\n",
       "    </tr>\n",
       "  </thead>\n",
       "  <tbody>\n",
       "    <tr>\n",
       "      <th>1081736</th>\n",
       "      <td>@seanjay  How did it go? 1 down and... how many?</td>\n",
       "      <td>@seanjay  how did it go? 1 down and... how many?</td>\n",
       "    </tr>\n",
       "    <tr>\n",
       "      <th>1122718</th>\n",
       "      <td>@LORI_SF  yes, hows that one</td>\n",
       "      <td>@lori_sf  yes, hows that one</td>\n",
       "    </tr>\n",
       "    <tr>\n",
       "      <th>1131926</th>\n",
       "      <td>had fun jet skiing on the lake today! the guys...</td>\n",
       "      <td>had fun jet skiing on the lake today! the guys...</td>\n",
       "    </tr>\n",
       "    <tr>\n",
       "      <th>1220282</th>\n",
       "      <td>Is in pe sat on the grass in the blazing sun w...</td>\n",
       "      <td>is in pe sat on the grass in the blazing sun w...</td>\n",
       "    </tr>\n",
       "    <tr>\n",
       "      <th>853182</th>\n",
       "      <td>@cow_grrrl hey me too but I am going away for ...</td>\n",
       "      <td>@cow_grrrl hey me too but i am going away for ...</td>\n",
       "    </tr>\n",
       "  </tbody>\n",
       "</table>\n",
       "</div>"
      ],
      "text/plain": [
       "                                                      text  \\\n",
       "1081736   @seanjay  How did it go? 1 down and... how many?   \n",
       "1122718                      @LORI_SF  yes, hows that one    \n",
       "1131926  had fun jet skiing on the lake today! the guys...   \n",
       "1220282  Is in pe sat on the grass in the blazing sun w...   \n",
       "853182   @cow_grrrl hey me too but I am going away for ...   \n",
       "\n",
       "                                                clean_text  \n",
       "1081736   @seanjay  how did it go? 1 down and... how many?  \n",
       "1122718                      @lori_sf  yes, hows that one   \n",
       "1131926  had fun jet skiing on the lake today! the guys...  \n",
       "1220282  is in pe sat on the grass in the blazing sun w...  \n",
       "853182   @cow_grrrl hey me too but i am going away for ...  "
      ]
     },
     "execution_count": 33,
     "metadata": {},
     "output_type": "execute_result"
    }
   ],
   "source": [
    "df['clean_text'] = df['text'].str.lower()\n",
    "df.sample(frac= 1).head()"
   ]
  },
  {
   "cell_type": "markdown",
   "id": "5e05e938-9000-4dc4-9e63-4a7d9a3c552d",
   "metadata": {},
   "source": [
    "# Removal of Punctuation"
   ]
  },
  {
   "cell_type": "code",
   "execution_count": 34,
   "id": "9f4c975a-3723-4b2d-951d-3552c41bb40a",
   "metadata": {},
   "outputs": [],
   "source": [
    "import string"
   ]
  },
  {
   "cell_type": "code",
   "execution_count": 35,
   "id": "9671e986-88ba-43df-a4d0-be179431615d",
   "metadata": {},
   "outputs": [
    {
     "data": {
      "text/plain": [
       "'!\"#$%&\\'()*+,-./:;<=>?@[\\\\]^_`{|}~'"
      ]
     },
     "execution_count": 35,
     "metadata": {},
     "output_type": "execute_result"
    }
   ],
   "source": [
    "string.punctuation"
   ]
  },
  {
   "cell_type": "code",
   "execution_count": 36,
   "id": "82ac71ab-3b42-4bb6-93bf-1a74809c95a1",
   "metadata": {},
   "outputs": [],
   "source": [
    "def remove_punctuation(text):\n",
    "    punctuations = string.punctuation\n",
    "    return text.translate(str.maketrans('','',punctuations))"
   ]
  },
  {
   "cell_type": "code",
   "execution_count": 37,
   "id": "8a09f3da-2225-49a1-bfa7-52980a8f7682",
   "metadata": {},
   "outputs": [
    {
     "data": {
      "text/html": [
       "<div>\n",
       "<style scoped>\n",
       "    .dataframe tbody tr th:only-of-type {\n",
       "        vertical-align: middle;\n",
       "    }\n",
       "\n",
       "    .dataframe tbody tr th {\n",
       "        vertical-align: top;\n",
       "    }\n",
       "\n",
       "    .dataframe thead th {\n",
       "        text-align: right;\n",
       "    }\n",
       "</style>\n",
       "<table border=\"1\" class=\"dataframe\">\n",
       "  <thead>\n",
       "    <tr style=\"text-align: right;\">\n",
       "      <th></th>\n",
       "      <th>text</th>\n",
       "      <th>clean_text</th>\n",
       "    </tr>\n",
       "  </thead>\n",
       "  <tbody>\n",
       "    <tr>\n",
       "      <th>982803</th>\n",
       "      <td>@Moonchild66 LOL. The joy of youthful calm huh...</td>\n",
       "      <td>moonchild66 lol the joy of youthful calm huh  ...</td>\n",
       "    </tr>\n",
       "    <tr>\n",
       "      <th>1194188</th>\n",
       "      <td>Listen Soundgarden's songs</td>\n",
       "      <td>listen soundgardens songs</td>\n",
       "    </tr>\n",
       "    <tr>\n",
       "      <th>534338</th>\n",
       "      <td>doesn't want to go back to 6th form tomorrow</td>\n",
       "      <td>doesnt want to go back to 6th form tomorrow</td>\n",
       "    </tr>\n",
       "    <tr>\n",
       "      <th>62558</th>\n",
       "      <td>@feanor1138 Watched race 2 blocks south of Was...</td>\n",
       "      <td>feanor1138 watched race 2 blocks south of wash...</td>\n",
       "    </tr>\n",
       "    <tr>\n",
       "      <th>1449261</th>\n",
       "      <td>ron white is great</td>\n",
       "      <td>ron white is great</td>\n",
       "    </tr>\n",
       "  </tbody>\n",
       "</table>\n",
       "</div>"
      ],
      "text/plain": [
       "                                                      text  \\\n",
       "982803   @Moonchild66 LOL. The joy of youthful calm huh...   \n",
       "1194188                        Listen Soundgarden's songs    \n",
       "534338       doesn't want to go back to 6th form tomorrow    \n",
       "62558    @feanor1138 Watched race 2 blocks south of Was...   \n",
       "1449261                                ron white is great    \n",
       "\n",
       "                                                clean_text  \n",
       "982803   moonchild66 lol the joy of youthful calm huh  ...  \n",
       "1194188                         listen soundgardens songs   \n",
       "534338        doesnt want to go back to 6th form tomorrow   \n",
       "62558    feanor1138 watched race 2 blocks south of wash...  \n",
       "1449261                                ron white is great   "
      ]
     },
     "execution_count": 37,
     "metadata": {},
     "output_type": "execute_result"
    }
   ],
   "source": [
    "df['clean_text'] = df['clean_text'].apply(lambda x: remove_punctuation(x))\n",
    "df.sample(frac =1).head()"
   ]
  },
  {
   "cell_type": "markdown",
   "id": "646d131a-8c16-4b94-a9e1-36df7281b5f0",
   "metadata": {},
   "source": [
    "# Removal of Stopwords"
   ]
  },
  {
   "cell_type": "code",
   "execution_count": 38,
   "id": "23835df1-44dc-45a5-8bd6-f7f631dc2f8e",
   "metadata": {},
   "outputs": [],
   "source": [
    "from nltk.corpus import stopwords"
   ]
  },
  {
   "cell_type": "code",
   "execution_count": 39,
   "id": "0874948e-f36a-41ca-9307-0f4524c77c00",
   "metadata": {},
   "outputs": [
    {
     "data": {
      "text/plain": [
       "\"i, me, my, myself, we, our, ours, ourselves, you, you're, you've, you'll, you'd, your, yours, yourself, yourselves, he, him, his, himself, she, she's, her, hers, herself, it, it's, its, itself, they, them, their, theirs, themselves, what, which, who, whom, this, that, that'll, these, those, am, is, are, was, were, be, been, being, have, has, had, having, do, does, did, doing, a, an, the, and, but, if, or, because, as, until, while, of, at, by, for, with, about, against, between, into, through, during, before, after, above, below, to, from, up, down, in, out, on, off, over, under, again, further, then, once, here, there, when, where, why, how, all, any, both, each, few, more, most, other, some, such, no, nor, not, only, own, same, so, than, too, very, s, t, can, will, just, don, don't, should, should've, now, d, ll, m, o, re, ve, y, ain, aren, aren't, couldn, couldn't, didn, didn't, doesn, doesn't, hadn, hadn't, hasn, hasn't, haven, haven't, isn, isn't, ma, mightn, mightn't, mustn, mustn't, needn, needn't, shan, shan't, shouldn, shouldn't, wasn, wasn't, weren, weren't, won, won't, wouldn, wouldn't\""
      ]
     },
     "execution_count": 39,
     "metadata": {},
     "output_type": "execute_result"
    }
   ],
   "source": [
    "\", \".join(stopwords.words('english'))"
   ]
  },
  {
   "cell_type": "code",
   "execution_count": 40,
   "id": "9294aa00-48fa-4f5d-9c7e-66e017ab59aa",
   "metadata": {},
   "outputs": [],
   "source": [
    "stop_words = set(stopwords.words('english'))\n",
    "def remove_stopwords(text):\n",
    "    return \" \".join([word for word in text.split() if word not in stop_words])"
   ]
  },
  {
   "cell_type": "code",
   "execution_count": 41,
   "id": "1072cf51-181c-4ee2-a897-9873cc02fc14",
   "metadata": {},
   "outputs": [
    {
     "data": {
      "text/html": [
       "<div>\n",
       "<style scoped>\n",
       "    .dataframe tbody tr th:only-of-type {\n",
       "        vertical-align: middle;\n",
       "    }\n",
       "\n",
       "    .dataframe tbody tr th {\n",
       "        vertical-align: top;\n",
       "    }\n",
       "\n",
       "    .dataframe thead th {\n",
       "        text-align: right;\n",
       "    }\n",
       "</style>\n",
       "<table border=\"1\" class=\"dataframe\">\n",
       "  <thead>\n",
       "    <tr style=\"text-align: right;\">\n",
       "      <th></th>\n",
       "      <th>text</th>\n",
       "      <th>clean_text</th>\n",
       "    </tr>\n",
       "  </thead>\n",
       "  <tbody>\n",
       "    <tr>\n",
       "      <th>1226495</th>\n",
       "      <td>@DJ_DOTCOM OMG we HAVE to watch it ahhhhh...Lo...</td>\n",
       "      <td>djdotcom omg watch ahhhhhlol yup probs point a...</td>\n",
       "    </tr>\n",
       "    <tr>\n",
       "      <th>30969</th>\n",
       "      <td>I'm in history, so bad</td>\n",
       "      <td>im history bad</td>\n",
       "    </tr>\n",
       "    <tr>\n",
       "      <th>287660</th>\n",
       "      <td>hates going to the doctor, im only going becau...</td>\n",
       "      <td>hates going doctor im going</td>\n",
       "    </tr>\n",
       "    <tr>\n",
       "      <th>257367</th>\n",
       "      <td>@karensugarpants the hills are amazing! Season...</td>\n",
       "      <td>karensugarpants hills amazing season finally s...</td>\n",
       "    </tr>\n",
       "    <tr>\n",
       "      <th>393541</th>\n",
       "      <td>I wish every browser supported border-radius, ...</td>\n",
       "      <td>wish every browser supported borderradius woul...</td>\n",
       "    </tr>\n",
       "  </tbody>\n",
       "</table>\n",
       "</div>"
      ],
      "text/plain": [
       "                                                      text  \\\n",
       "1226495  @DJ_DOTCOM OMG we HAVE to watch it ahhhhh...Lo...   \n",
       "30969                              I'm in history, so bad    \n",
       "287660   hates going to the doctor, im only going becau...   \n",
       "257367   @karensugarpants the hills are amazing! Season...   \n",
       "393541   I wish every browser supported border-radius, ...   \n",
       "\n",
       "                                                clean_text  \n",
       "1226495  djdotcom omg watch ahhhhhlol yup probs point a...  \n",
       "30969                                       im history bad  \n",
       "287660                         hates going doctor im going  \n",
       "257367   karensugarpants hills amazing season finally s...  \n",
       "393541   wish every browser supported borderradius woul...  "
      ]
     },
     "execution_count": 41,
     "metadata": {},
     "output_type": "execute_result"
    }
   ],
   "source": [
    "df['clean_text'] = df['clean_text'].apply(lambda x: remove_stopwords(x))\n",
    "df.sample(frac =1).head()"
   ]
  },
  {
   "cell_type": "markdown",
   "id": "2ca43788-d908-4f91-8217-693ee096a80b",
   "metadata": {},
   "source": [
    "# Removal of Frequent Words"
   ]
  },
  {
   "cell_type": "code",
   "execution_count": 42,
   "id": "c8cfd16b-0744-4919-a611-8e975dda1800",
   "metadata": {},
   "outputs": [],
   "source": [
    "from collections import Counter"
   ]
  },
  {
   "cell_type": "code",
   "execution_count": 43,
   "id": "e2ca0e41-765d-4952-b693-b664f650ab9c",
   "metadata": {},
   "outputs": [
    {
     "data": {
      "text/plain": [
       "[('im', 177453),\n",
       " ('good', 89386),\n",
       " ('day', 82345),\n",
       " ('get', 81469),\n",
       " ('like', 77732),\n",
       " ('go', 72889),\n",
       " ('dont', 66915),\n",
       " ('today', 64584),\n",
       " ('going', 64072),\n",
       " ('love', 63454)]"
      ]
     },
     "execution_count": 43,
     "metadata": {},
     "output_type": "execute_result"
    }
   ],
   "source": [
    "word_count = Counter()\n",
    "for text in df['clean_text']:\n",
    "    for word in text.split():\n",
    "        word_count[word] +=1\n",
    "\n",
    "word_count.most_common(10)"
   ]
  },
  {
   "cell_type": "code",
   "execution_count": 45,
   "id": "566c25c8-d3df-445f-8d23-f09b5d88c57c",
   "metadata": {},
   "outputs": [],
   "source": [
    "frequent_words = set(word for (word,wc) in word_count.most_common(1))\n",
    "def remove_freq_words(text):\n",
    "    return \" \".join([word for word in text.split() if word not in frequent_words])"
   ]
  },
  {
   "cell_type": "code",
   "execution_count": 46,
   "id": "82dcbf34-5cc6-48c5-9526-eb2de86c99aa",
   "metadata": {},
   "outputs": [
    {
     "data": {
      "text/html": [
       "<div>\n",
       "<style scoped>\n",
       "    .dataframe tbody tr th:only-of-type {\n",
       "        vertical-align: middle;\n",
       "    }\n",
       "\n",
       "    .dataframe tbody tr th {\n",
       "        vertical-align: top;\n",
       "    }\n",
       "\n",
       "    .dataframe thead th {\n",
       "        text-align: right;\n",
       "    }\n",
       "</style>\n",
       "<table border=\"1\" class=\"dataframe\">\n",
       "  <thead>\n",
       "    <tr style=\"text-align: right;\">\n",
       "      <th></th>\n",
       "      <th>text</th>\n",
       "      <th>clean_text</th>\n",
       "    </tr>\n",
       "  </thead>\n",
       "  <tbody>\n",
       "    <tr>\n",
       "      <th>0</th>\n",
       "      <td>is upset that he can't update his Facebook by ...</td>\n",
       "      <td>upset cant update facebook texting might cry r...</td>\n",
       "    </tr>\n",
       "    <tr>\n",
       "      <th>1</th>\n",
       "      <td>@Kenichan I dived many times for the ball. Man...</td>\n",
       "      <td>kenichan dived many times ball managed save 50...</td>\n",
       "    </tr>\n",
       "    <tr>\n",
       "      <th>2</th>\n",
       "      <td>my whole body feels itchy and like its on fire</td>\n",
       "      <td>whole body feels itchy like fire</td>\n",
       "    </tr>\n",
       "    <tr>\n",
       "      <th>3</th>\n",
       "      <td>@nationwideclass no, it's not behaving at all....</td>\n",
       "      <td>nationwideclass behaving mad cant see</td>\n",
       "    </tr>\n",
       "    <tr>\n",
       "      <th>4</th>\n",
       "      <td>@Kwesidei not the whole crew</td>\n",
       "      <td>kwesidei whole crew</td>\n",
       "    </tr>\n",
       "  </tbody>\n",
       "</table>\n",
       "</div>"
      ],
      "text/plain": [
       "                                                text  \\\n",
       "0  is upset that he can't update his Facebook by ...   \n",
       "1  @Kenichan I dived many times for the ball. Man...   \n",
       "2    my whole body feels itchy and like its on fire    \n",
       "3  @nationwideclass no, it's not behaving at all....   \n",
       "4                      @Kwesidei not the whole crew    \n",
       "\n",
       "                                          clean_text  \n",
       "0  upset cant update facebook texting might cry r...  \n",
       "1  kenichan dived many times ball managed save 50...  \n",
       "2                   whole body feels itchy like fire  \n",
       "3              nationwideclass behaving mad cant see  \n",
       "4                                kwesidei whole crew  "
      ]
     },
     "execution_count": 46,
     "metadata": {},
     "output_type": "execute_result"
    }
   ],
   "source": [
    "df['clean_text'] = df['clean_text'].apply(lambda x: remove_freq_words(x))\n",
    "df.head()"
   ]
  },
  {
   "cell_type": "markdown",
   "id": "b7657c2c-a720-42c5-8e41-e217e845bb5a",
   "metadata": {},
   "source": [
    "# Removal of Rare Words"
   ]
  },
  {
   "cell_type": "code",
   "execution_count": 47,
   "id": "301f9e1f-5b31-4d25-9a51-da8655fae99d",
   "metadata": {},
   "outputs": [
    {
     "data": {
      "text/plain": [
       "{('bigrun', 1),\n",
       " ('httpblipfm8bmta', 1),\n",
       " ('httptinyurlcomn65xjt', 1),\n",
       " ('oxhot', 1),\n",
       " ('royeveritt', 1),\n",
       " ('sparkscharity', 1),\n",
       " ('speakinguph4h', 1),\n",
       " ('thewdbcom', 1),\n",
       " ('thrillmesoon', 1)}"
      ]
     },
     "execution_count": 47,
     "metadata": {},
     "output_type": "execute_result"
    }
   ],
   "source": [
    "rare_words = set((word,wc) for (word,wc) in word_count.most_common()[:-10:-1])\n",
    "rare_words"
   ]
  },
  {
   "cell_type": "markdown",
   "id": "c5af087f-31cf-47ea-a408-9d68705cef4a",
   "metadata": {},
   "source": [
    "These words are used only once so we can remove them."
   ]
  },
  {
   "cell_type": "code",
   "execution_count": 48,
   "id": "d54ca401-5186-4a36-be01-564056057ed7",
   "metadata": {},
   "outputs": [],
   "source": [
    "def remove_rare_words(text):\n",
    "    return \" \".join([word for word in text.split() if word not in rare_words])"
   ]
  },
  {
   "cell_type": "code",
   "execution_count": 50,
   "id": "ec96f198-cbe3-4c86-924d-ba93c944c979",
   "metadata": {},
   "outputs": [
    {
     "data": {
      "text/html": [
       "<div>\n",
       "<style scoped>\n",
       "    .dataframe tbody tr th:only-of-type {\n",
       "        vertical-align: middle;\n",
       "    }\n",
       "\n",
       "    .dataframe tbody tr th {\n",
       "        vertical-align: top;\n",
       "    }\n",
       "\n",
       "    .dataframe thead th {\n",
       "        text-align: right;\n",
       "    }\n",
       "</style>\n",
       "<table border=\"1\" class=\"dataframe\">\n",
       "  <thead>\n",
       "    <tr style=\"text-align: right;\">\n",
       "      <th></th>\n",
       "      <th>text</th>\n",
       "      <th>clean_text</th>\n",
       "    </tr>\n",
       "  </thead>\n",
       "  <tbody>\n",
       "    <tr>\n",
       "      <th>511172</th>\n",
       "      <td>Its 3 am and I am wide awake</td>\n",
       "      <td>3 wide awake</td>\n",
       "    </tr>\n",
       "    <tr>\n",
       "      <th>222969</th>\n",
       "      <td>this nba season has been crazzzzyy..and like a...</td>\n",
       "      <td>nba season crazzzzyyand like anyonewanted see ...</td>\n",
       "    </tr>\n",
       "    <tr>\n",
       "      <th>785902</th>\n",
       "      <td>not eating noodles</td>\n",
       "      <td>eating noodles</td>\n",
       "    </tr>\n",
       "    <tr>\n",
       "      <th>931384</th>\n",
       "      <td>Greek, GG, and OTH today all were great</td>\n",
       "      <td>greek gg oth today great</td>\n",
       "    </tr>\n",
       "    <tr>\n",
       "      <th>627134</th>\n",
       "      <td>Almost home, more to do than not do. Bummer</td>\n",
       "      <td>almost home bummer</td>\n",
       "    </tr>\n",
       "  </tbody>\n",
       "</table>\n",
       "</div>"
      ],
      "text/plain": [
       "                                                     text  \\\n",
       "511172                      Its 3 am and I am wide awake    \n",
       "222969  this nba season has been crazzzzyy..and like a...   \n",
       "785902                                not eating noodles    \n",
       "931384           Greek, GG, and OTH today all were great    \n",
       "627134       Almost home, more to do than not do. Bummer    \n",
       "\n",
       "                                               clean_text  \n",
       "511172                                       3 wide awake  \n",
       "222969  nba season crazzzzyyand like anyonewanted see ...  \n",
       "785902                                     eating noodles  \n",
       "931384                           greek gg oth today great  \n",
       "627134                                 almost home bummer  "
      ]
     },
     "execution_count": 50,
     "metadata": {},
     "output_type": "execute_result"
    }
   ],
   "source": [
    "df['clean_text'] = df['clean_text'].apply(lambda x: remove_rare_words(x))\n",
    "df.sample(frac=1).head()"
   ]
  },
  {
   "cell_type": "markdown",
   "id": "4e215b9b-d0d4-4a84-8617-f9a74a4c42fb",
   "metadata": {},
   "source": [
    "# Removal of Special Characters"
   ]
  },
  {
   "cell_type": "code",
   "execution_count": 51,
   "id": "33831557-ad5f-468e-9dac-7aec53a3546d",
   "metadata": {},
   "outputs": [],
   "source": [
    "import re\n",
    "def remove_spl_chars(text):\n",
    "    text= re.sub('[^a-zA-Z]',' ',text)\n",
    "    text = re.sub('\\s+',' ',text)\n",
    "    return text"
   ]
  },
  {
   "cell_type": "code",
   "execution_count": 52,
   "id": "3d9ab079-8f9f-4a5d-88bc-71d74406da7f",
   "metadata": {},
   "outputs": [
    {
     "data": {
      "text/html": [
       "<div>\n",
       "<style scoped>\n",
       "    .dataframe tbody tr th:only-of-type {\n",
       "        vertical-align: middle;\n",
       "    }\n",
       "\n",
       "    .dataframe tbody tr th {\n",
       "        vertical-align: top;\n",
       "    }\n",
       "\n",
       "    .dataframe thead th {\n",
       "        text-align: right;\n",
       "    }\n",
       "</style>\n",
       "<table border=\"1\" class=\"dataframe\">\n",
       "  <thead>\n",
       "    <tr style=\"text-align: right;\">\n",
       "      <th></th>\n",
       "      <th>text</th>\n",
       "      <th>clean_text</th>\n",
       "    </tr>\n",
       "  </thead>\n",
       "  <tbody>\n",
       "    <tr>\n",
       "      <th>73008</th>\n",
       "      <td>Rainy Monday mornig &amp;amp; back to work...</td>\n",
       "      <td>rainy monday mornig amp back work</td>\n",
       "    </tr>\n",
       "    <tr>\n",
       "      <th>315352</th>\n",
       "      <td>says i'm missing my Baby Boo so much.  http://...</td>\n",
       "      <td>says missing baby boo much httpplurkcompxurlz</td>\n",
       "    </tr>\n",
       "    <tr>\n",
       "      <th>543928</th>\n",
       "      <td>@wsredneck Wish he was there</td>\n",
       "      <td>wsredneck wish</td>\n",
       "    </tr>\n",
       "    <tr>\n",
       "      <th>262235</th>\n",
       "      <td>needs a pick me up</td>\n",
       "      <td>needs pick</td>\n",
       "    </tr>\n",
       "    <tr>\n",
       "      <th>568651</th>\n",
       "      <td>'Transformers 2' is (are?) truly unwatchable. ...</td>\n",
       "      <td>transformers truly unwatchable even cgifriendl...</td>\n",
       "    </tr>\n",
       "  </tbody>\n",
       "</table>\n",
       "</div>"
      ],
      "text/plain": [
       "                                                     text  \\\n",
       "73008          Rainy Monday mornig &amp; back to work...    \n",
       "315352  says i'm missing my Baby Boo so much.  http://...   \n",
       "543928                      @wsredneck Wish he was there    \n",
       "262235                                needs a pick me up    \n",
       "568651  'Transformers 2' is (are?) truly unwatchable. ...   \n",
       "\n",
       "                                               clean_text  \n",
       "73008                   rainy monday mornig amp back work  \n",
       "315352      says missing baby boo much httpplurkcompxurlz  \n",
       "543928                                     wsredneck wish  \n",
       "262235                                         needs pick  \n",
       "568651  transformers truly unwatchable even cgifriendl...  "
      ]
     },
     "execution_count": 52,
     "metadata": {},
     "output_type": "execute_result"
    }
   ],
   "source": [
    "df['clean_text'] = df['clean_text'].apply(lambda x: remove_spl_chars(x))\n",
    "df.sample(frac=1).head()"
   ]
  },
  {
   "cell_type": "code",
   "execution_count": null,
   "id": "d975db2f-5298-48b7-9b6e-d95637795c9c",
   "metadata": {},
   "outputs": [],
   "source": []
  },
  {
   "cell_type": "code",
   "execution_count": null,
   "id": "ff42cf4e-bad7-466e-8b7d-ddad80449f7b",
   "metadata": {},
   "outputs": [],
   "source": []
  },
  {
   "cell_type": "code",
   "execution_count": null,
   "id": "a116aa9b-d52f-4a9f-a75b-3cf4b2688e61",
   "metadata": {},
   "outputs": [],
   "source": []
  }
 ],
 "metadata": {
  "kernelspec": {
   "display_name": "Python 3 (ipykernel)",
   "language": "python",
   "name": "python3"
  },
  "language_info": {
   "codemirror_mode": {
    "name": "ipython",
    "version": 3
   },
   "file_extension": ".py",
   "mimetype": "text/x-python",
   "name": "python",
   "nbconvert_exporter": "python",
   "pygments_lexer": "ipython3",
   "version": "3.11.5"
  }
 },
 "nbformat": 4,
 "nbformat_minor": 5
}
